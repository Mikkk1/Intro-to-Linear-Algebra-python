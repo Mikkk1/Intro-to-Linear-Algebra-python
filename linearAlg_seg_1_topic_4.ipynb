{
  "nbformat": 4,
  "nbformat_minor": 0,
  "metadata": {
    "colab": {
      "provenance": [],
      "authorship_tag": "ABX9TyNL7+N1EZM+C7zgJlbzc3po",
      "include_colab_link": true
    },
    "kernelspec": {
      "name": "python3",
      "display_name": "Python 3"
    },
    "language_info": {
      "name": "python"
    }
  },
  "cells": [
    {
      "cell_type": "markdown",
      "metadata": {
        "id": "view-in-github",
        "colab_type": "text"
      },
      "source": [
        "<a href=\"https://colab.research.google.com/github/Mikkk1/Intro-to-Linear-Algebra-python/blob/main/linearAlg_seg_1_topic_4.ipynb\" target=\"_parent\"><img src=\"https://colab.research.google.com/assets/colab-badge.svg\" alt=\"Open In Colab\"/></a>"
      ]
    },
    {
      "cell_type": "markdown",
      "source": [
        "# **Matrices** (Rank 2 Tensors)\n",
        "* 2D array of numbers.\n",
        "* Denoted by Uppercse itallics, bold, e.g. ***X***\n",
        "* Represented as:\n",
        "  * ***X*** = (n<sub>row</sub>, n<sub>col</sub>)\n",
        "  * ***X*** has 3 rows and 2 columns, if its shape is (3, 2).\n",
        "* Individual scaler element is denoted by uppercase, itallics only. e.g.,\n",
        "  * So, the element on the top right corner of the matrix ***X*** would be *X*<sub>1,2</sub>\n",
        "* Colon reppresents the entire row or column.\n",
        "  * Left column of matrix ***X*** is ***X***<sub>:,1</sub>"
      ],
      "metadata": {
        "id": "mAg1oUqZIox4"
      }
    },
    {
      "cell_type": "markdown",
      "source": [
        "## In Numpy:"
      ],
      "metadata": {
        "id": "ac9sdQnLMrwJ"
      }
    },
    {
      "cell_type": "code",
      "source": [
        "import numpy as np\n",
        "import tensorflow as tf"
      ],
      "metadata": {
        "id": "YbSfNJbmNLzf"
      },
      "execution_count": 3,
      "outputs": []
    },
    {
      "cell_type": "code",
      "execution_count": 4,
      "metadata": {
        "colab": {
          "base_uri": "https://localhost:8080/"
        },
        "id": "BmkazAB6IXRK",
        "outputId": "a08394e3-31df-429a-c438-6f4848ad8703"
      },
      "outputs": [
        {
          "output_type": "execute_result",
          "data": {
            "text/plain": [
              "array([[25,  2],\n",
              "       [ 5,  6],\n",
              "       [ 7, 10]])"
            ]
          },
          "metadata": {},
          "execution_count": 4
        }
      ],
      "source": [
        "# use array() with nested brackets:\n",
        "\n",
        "X = np.array([[25, 2],[5, 6], [7, 10]])\n",
        "X"
      ]
    },
    {
      "cell_type": "code",
      "source": [
        "X.shape"
      ],
      "metadata": {
        "colab": {
          "base_uri": "https://localhost:8080/"
        },
        "id": "tYaYJSN8NDj2",
        "outputId": "c852c8bf-cc7b-4b7c-eddd-a41b2506e5f8"
      },
      "execution_count": 7,
      "outputs": [
        {
          "output_type": "execute_result",
          "data": {
            "text/plain": [
              "(3, 2)"
            ]
          },
          "metadata": {},
          "execution_count": 7
        }
      ]
    },
    {
      "cell_type": "code",
      "source": [
        "X.size"
      ],
      "metadata": {
        "colab": {
          "base_uri": "https://localhost:8080/"
        },
        "id": "ZGW0fCZMNGb1",
        "outputId": "f52cf50f-e22a-4753-9295-c25c56127260"
      },
      "execution_count": 6,
      "outputs": [
        {
          "output_type": "execute_result",
          "data": {
            "text/plain": [
              "6"
            ]
          },
          "metadata": {},
          "execution_count": 6
        }
      ]
    },
    {
      "cell_type": "markdown",
      "source": [
        "Left column of matrix: (Starts from 0 Index in programming, from 1 in Maths)"
      ],
      "metadata": {
        "id": "g_euEv2ONeTl"
      }
    },
    {
      "cell_type": "code",
      "source": [
        "X[:,0]"
      ],
      "metadata": {
        "colab": {
          "base_uri": "https://localhost:8080/"
        },
        "id": "x2aSBmFsNTRM",
        "outputId": "8184b020-6f84-41cf-e053-06d6f660c6c5"
      },
      "execution_count": 8,
      "outputs": [
        {
          "output_type": "execute_result",
          "data": {
            "text/plain": [
              "array([25,  5,  7])"
            ]
          },
          "metadata": {},
          "execution_count": 8
        }
      ]
    },
    {
      "cell_type": "code",
      "source": [
        "X[2,:]"
      ],
      "metadata": {
        "colab": {
          "base_uri": "https://localhost:8080/"
        },
        "id": "h7ftoA3yNceB",
        "outputId": "790b0f21-4c66-4141-c3d5-7ec46a450993"
      },
      "execution_count": 9,
      "outputs": [
        {
          "output_type": "execute_result",
          "data": {
            "text/plain": [
              "array([ 7, 10])"
            ]
          },
          "metadata": {},
          "execution_count": 9
        }
      ]
    },
    {
      "cell_type": "code",
      "source": [
        "X[0:2]"
      ],
      "metadata": {
        "colab": {
          "base_uri": "https://localhost:8080/"
        },
        "id": "5N0QEMwRNvhh",
        "outputId": "b7a8fbeb-0180-4dd4-ce56-75272a5fa378"
      },
      "execution_count": 10,
      "outputs": [
        {
          "output_type": "execute_result",
          "data": {
            "text/plain": [
              "array([[25,  2],\n",
              "       [ 5,  6]])"
            ]
          },
          "metadata": {},
          "execution_count": 10
        }
      ]
    },
    {
      "cell_type": "markdown",
      "source": [
        "## In TensorFlow"
      ],
      "metadata": {
        "id": "dcuBcMkhOJwP"
      }
    },
    {
      "cell_type": "code",
      "source": [
        "X_tf = tf.Variable([[25, 2],[5, 6], [7, 10]])\n",
        "X_tf"
      ],
      "metadata": {
        "colab": {
          "base_uri": "https://localhost:8080/"
        },
        "id": "31t8A9jbN-7g",
        "outputId": "d68b5037-3a3f-4b9a-9d00-2338c5271335"
      },
      "execution_count": 13,
      "outputs": [
        {
          "output_type": "execute_result",
          "data": {
            "text/plain": [
              "<tf.Variable 'Variable:0' shape=(3, 2) dtype=int32, numpy=\n",
              "array([[25,  2],\n",
              "       [ 5,  6],\n",
              "       [ 7, 10]], dtype=int32)>"
            ]
          },
          "metadata": {},
          "execution_count": 13
        }
      ]
    },
    {
      "cell_type": "code",
      "source": [
        "tf.rank(X_tf)"
      ],
      "metadata": {
        "colab": {
          "base_uri": "https://localhost:8080/"
        },
        "id": "qFwi_yOFOURw",
        "outputId": "6b4293e7-685b-490b-d729-01e64af74d37"
      },
      "execution_count": 14,
      "outputs": [
        {
          "output_type": "execute_result",
          "data": {
            "text/plain": [
              "<tf.Tensor: shape=(), dtype=int32, numpy=2>"
            ]
          },
          "metadata": {},
          "execution_count": 14
        }
      ]
    },
    {
      "cell_type": "code",
      "source": [
        "tf.shape(X_tf)"
      ],
      "metadata": {
        "colab": {
          "base_uri": "https://localhost:8080/"
        },
        "id": "2MZic9LXOgd1",
        "outputId": "3a4c1451-bc87-478f-e932-4611d0ce0cde"
      },
      "execution_count": 15,
      "outputs": [
        {
          "output_type": "execute_result",
          "data": {
            "text/plain": [
              "<tf.Tensor: shape=(2,), dtype=int32, numpy=array([3, 2], dtype=int32)>"
            ]
          },
          "metadata": {},
          "execution_count": 15
        }
      ]
    },
    {
      "cell_type": "code",
      "source": [
        "X_tf[1,:]"
      ],
      "metadata": {
        "colab": {
          "base_uri": "https://localhost:8080/"
        },
        "id": "lRakmFQYOjeZ",
        "outputId": "14d2792a-e230-48ce-deb4-1e8b491a92cc"
      },
      "execution_count": 17,
      "outputs": [
        {
          "output_type": "execute_result",
          "data": {
            "text/plain": [
              "<tf.Tensor: shape=(2,), dtype=int32, numpy=array([5, 6], dtype=int32)>"
            ]
          },
          "metadata": {},
          "execution_count": 17
        }
      ]
    },
    {
      "cell_type": "markdown",
      "source": [
        "# Generic Tensor Notation\n",
        "## Higher-Rank tensors:\n",
        "* Denoted by Uppercase, bold, itallics\n",
        "* In a 4-Tensor ***X*** (4D tensor), element at position *(i, j, k, l)* will be denoted as ***X***<sub>*(i,j,k,l)*</sub>\n",
        "* As an example, Rank 4 Tensors are common for images, where each dimension refers to:\n",
        "  1.   Number of images in training batch, e.g. 32\n",
        "  2.   Image height in pixels, e.g. 28\n",
        "  3.   Image width in pixels, e.g. 28\n",
        "  4.   Number of color channels, e.g. 3 for full color images (RGB)\n",
        "  \n",
        "\n"
      ],
      "metadata": {
        "id": "4pR5TzNCO2g1"
      }
    },
    {
      "cell_type": "code",
      "source": [
        "# In real models, we replace images with the zeros.\n",
        "images_tf = tf.zeros([32, 28, 28, 3])"
      ],
      "metadata": {
        "id": "ZjTZu1NsOqWE"
      },
      "execution_count": 18,
      "outputs": []
    },
    {
      "cell_type": "code",
      "source": [
        "images_tf"
      ],
      "metadata": {
        "id": "MlPuxX0ARVPu"
      },
      "execution_count": null,
      "outputs": []
    },
    {
      "cell_type": "markdown",
      "source": [
        "Segment 1 ends here."
      ],
      "metadata": {
        "id": "t2uOFXUpR1Hz"
      }
    }
  ]
}