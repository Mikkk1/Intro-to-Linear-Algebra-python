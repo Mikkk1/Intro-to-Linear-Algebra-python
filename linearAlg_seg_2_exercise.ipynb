{
  "nbformat": 4,
  "nbformat_minor": 0,
  "metadata": {
    "colab": {
      "provenance": [],
      "authorship_tag": "ABX9TyMwQRiYMdYNiJgl5RiM8IC9",
      "include_colab_link": true
    },
    "kernelspec": {
      "name": "python3",
      "display_name": "Python 3"
    },
    "language_info": {
      "name": "python"
    }
  },
  "cells": [
    {
      "cell_type": "markdown",
      "metadata": {
        "id": "view-in-github",
        "colab_type": "text"
      },
      "source": [
        "<a href=\"https://colab.research.google.com/github/Mikkk1/Intro-to-Linear-Algebra-python/blob/main/linearAlg_seg_2_exercise.ipynb\" target=\"_parent\"><img src=\"https://colab.research.google.com/assets/colab-badge.svg\" alt=\"Open In Colab\"/></a>"
      ]
    },
    {
      "cell_type": "markdown",
      "source": [
        "# **Common Tensor operations:**"
      ],
      "metadata": {
        "id": "AqpWgT4_KsVE"
      }
    },
    {
      "cell_type": "markdown",
      "source": [
        "## Exercise:"
      ],
      "metadata": {
        "id": "3vgk12l9LYF-"
      }
    },
    {
      "cell_type": "code",
      "source": [
        "import numpy as np\n",
        "import tensorflow as tf"
      ],
      "metadata": {
        "id": "xtihjYeNMLQv"
      },
      "execution_count": null,
      "outputs": []
    },
    {
      "cell_type": "code",
      "execution_count": null,
      "metadata": {
        "colab": {
          "base_uri": "https://localhost:8080/"
        },
        "id": "3gPXKgBfKWz1",
        "outputId": "73bee799-a4f1-4ae0-d6e2-5b6c21d6c1f3"
      },
      "outputs": [
        {
          "output_type": "execute_result",
          "data": {
            "text/plain": [
              "array([[ 42,   4,   7,  99],\n",
              "       [-99,  -3,  17,  22]])"
            ]
          },
          "metadata": {},
          "execution_count": 5
        }
      ],
      "source": [
        "Y = np.array([[42, 4, 7, 99], [-99, -3, 17, 22]])\n",
        "Y"
      ]
    },
    {
      "cell_type": "code",
      "source": [
        "Y.T"
      ],
      "metadata": {
        "colab": {
          "base_uri": "https://localhost:8080/"
        },
        "id": "44tjzStcMGxq",
        "outputId": "aec33c49-6467-4d07-d289-12833393d4cd"
      },
      "execution_count": null,
      "outputs": [
        {
          "output_type": "execute_result",
          "data": {
            "text/plain": [
              "array([[ 42, -99],\n",
              "       [  4,  -3],\n",
              "       [  7,  17],\n",
              "       [ 99,  22]])"
            ]
          },
          "metadata": {},
          "execution_count": 6
        }
      ]
    },
    {
      "cell_type": "markdown",
      "source": [
        "## Hadamard Product:\n"
      ],
      "metadata": {
        "id": "YN5g8Et7O1ML"
      }
    },
    {
      "cell_type": "code",
      "source": [
        "X_tf = tf.Variable([[25, 10],[-2, 1]])\n",
        "Y_tf = tf.Variable([[-1, 7],[10, 8]])"
      ],
      "metadata": {
        "id": "6MxSj85FMWhu"
      },
      "execution_count": null,
      "outputs": []
    },
    {
      "cell_type": "code",
      "source": [
        "X_tf * Y_tf"
      ],
      "metadata": {
        "colab": {
          "base_uri": "https://localhost:8080/"
        },
        "id": "Zy2vPgFKNksB",
        "outputId": "d88a7ad0-4cdd-4cdd-d10b-6614cd5d0695"
      },
      "execution_count": null,
      "outputs": [
        {
          "output_type": "execute_result",
          "data": {
            "text/plain": [
              "<tf.Tensor: shape=(2, 2), dtype=int32, numpy=\n",
              "array([[-25,  70],\n",
              "       [-20,   8]], dtype=int32)>"
            ]
          },
          "metadata": {},
          "execution_count": 12
        }
      ]
    },
    {
      "cell_type": "markdown",
      "source": [
        "## Dot Product:"
      ],
      "metadata": {
        "id": "1B1MQtAaO6r1"
      }
    },
    {
      "cell_type": "code",
      "source": [
        "w_tf = tf.Variable([-1, 2, -2])\n",
        "x_tf = tf.Variable([5, 10, 0])"
      ],
      "metadata": {
        "id": "P90sIETHPEy_"
      },
      "execution_count": null,
      "outputs": []
    },
    {
      "cell_type": "code",
      "source": [
        "tf.reduce_sum(tf.multiply(w_tf,x_tf))"
      ],
      "metadata": {
        "colab": {
          "base_uri": "https://localhost:8080/"
        },
        "id": "cfr_L5JvNI24",
        "outputId": "6056f297-a723-492a-f4ad-5631251a6eed"
      },
      "execution_count": null,
      "outputs": [
        {
          "output_type": "execute_result",
          "data": {
            "text/plain": [
              "<tf.Tensor: shape=(), dtype=int32, numpy=15>"
            ]
          },
          "metadata": {},
          "execution_count": 14
        }
      ]
    }
  ]
}