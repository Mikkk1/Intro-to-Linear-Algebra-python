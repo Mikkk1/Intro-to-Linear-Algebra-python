{
  "nbformat": 4,
  "nbformat_minor": 0,
  "metadata": {
    "colab": {
      "provenance": [],
      "authorship_tag": "ABX9TyO7qQTQKFeK8eaMuodF9+U5",
      "include_colab_link": true
    },
    "kernelspec": {
      "name": "python3",
      "display_name": "Python 3"
    },
    "language_info": {
      "name": "python"
    }
  },
  "cells": [
    {
      "cell_type": "markdown",
      "metadata": {
        "id": "view-in-github",
        "colab_type": "text"
      },
      "source": [
        "<a href=\"https://colab.research.google.com/github/Mikkk1/Intro-to-Linear-Algebra-python/blob/main/linearAlg_seg_1_topic_3.ipynb\" target=\"_parent\"><img src=\"https://colab.research.google.com/assets/colab-badge.svg\" alt=\"Open In Colab\"/></a>"
      ]
    },
    {
      "cell_type": "markdown",
      "source": [
        "# **Vectors and Transpose of a vector:**\n",
        "\n",
        "### What are vectors?\n",
        "* One-dimensional array of numbers.\n",
        "* They are denoted by lower case, italic, bold characters, e.g. ***'x'***\n",
        "* Arranged in order, so can be accessed by index.\n",
        "\n",
        "  *   Individual elements of a vector are scalers, so they cannot be represented as bold characters.\n",
        "* Vectors usually represent a point in space. e.g.,\n",
        "  * A vector of length 2 represents a location in 2D matrix.\n",
        "  * A vector of length 3 represents a location in 3D matrix.\n",
        "  * A vector of length n represents a location in nD matrix.\n"
      ],
      "metadata": {
        "id": "g119musJvQsL"
      }
    },
    {
      "cell_type": "markdown",
      "source": [
        "### Vectors (Rank 1 Tensors) in numpy:"
      ],
      "metadata": {
        "id": "HxPNeFN1yR7b"
      }
    },
    {
      "cell_type": "code",
      "execution_count": 2,
      "metadata": {
        "id": "g52vAJYxvEFJ"
      },
      "outputs": [],
      "source": [
        "import numpy as np\n",
        "import tensorflow as tf"
      ]
    },
    {
      "cell_type": "code",
      "source": [
        "x = np.array([25,5,50]) # We can also specify data type (optional), dtype = np.float16\n",
        "x"
      ],
      "metadata": {
        "colab": {
          "base_uri": "https://localhost:8080/"
        },
        "id": "DMKQo1doyQVL",
        "outputId": "64f17d5c-c871-4541-ae73-43b995764bca"
      },
      "execution_count": null,
      "outputs": [
        {
          "output_type": "execute_result",
          "data": {
            "text/plain": [
              "array([25,  5, 50])"
            ]
          },
          "metadata": {},
          "execution_count": 3
        }
      ]
    },
    {
      "cell_type": "code",
      "source": [
        "len(x)"
      ],
      "metadata": {
        "colab": {
          "base_uri": "https://localhost:8080/"
        },
        "id": "OMRnnSo3yiE_",
        "outputId": "c173baf1-bb8a-4256-a1c8-cbe89a1bc30a"
      },
      "execution_count": null,
      "outputs": [
        {
          "output_type": "execute_result",
          "data": {
            "text/plain": [
              "3"
            ]
          },
          "metadata": {},
          "execution_count": 4
        }
      ]
    },
    {
      "cell_type": "code",
      "source": [
        "x.shape"
      ],
      "metadata": {
        "colab": {
          "base_uri": "https://localhost:8080/"
        },
        "id": "APMqM9pMyzwb",
        "outputId": "da2c7466-b9c9-41d3-bbe0-6892d2dc125d"
      },
      "execution_count": null,
      "outputs": [
        {
          "output_type": "execute_result",
          "data": {
            "text/plain": [
              "(3,)"
            ]
          },
          "metadata": {},
          "execution_count": 5
        }
      ]
    },
    {
      "cell_type": "code",
      "source": [
        "type(x)"
      ],
      "metadata": {
        "colab": {
          "base_uri": "https://localhost:8080/"
        },
        "id": "VYP9QZHcy1jw",
        "outputId": "9593ae54-6e95-4f90-ce67-0e3ebb14ceb0"
      },
      "execution_count": null,
      "outputs": [
        {
          "output_type": "execute_result",
          "data": {
            "text/plain": [
              "numpy.ndarray"
            ]
          },
          "metadata": {},
          "execution_count": 6
        }
      ]
    },
    {
      "cell_type": "code",
      "source": [
        "x[0]"
      ],
      "metadata": {
        "colab": {
          "base_uri": "https://localhost:8080/"
        },
        "id": "w6NuC4rzy4Fs",
        "outputId": "e166badf-77b9-492d-a1ef-19078320c419"
      },
      "execution_count": null,
      "outputs": [
        {
          "output_type": "execute_result",
          "data": {
            "text/plain": [
              "25"
            ]
          },
          "metadata": {},
          "execution_count": 7
        }
      ]
    },
    {
      "cell_type": "code",
      "source": [
        "x[2]"
      ],
      "metadata": {
        "colab": {
          "base_uri": "https://localhost:8080/"
        },
        "id": "BYe4SmcXy6wG",
        "outputId": "e8f9cfce-e674-47ac-eab5-c416353ef9f0"
      },
      "execution_count": null,
      "outputs": [
        {
          "output_type": "execute_result",
          "data": {
            "text/plain": [
              "50"
            ]
          },
          "metadata": {},
          "execution_count": 8
        }
      ]
    },
    {
      "cell_type": "markdown",
      "source": [
        "## Vector Transposition:\n",
        "Changing row into columns and vice versa of a vector."
      ],
      "metadata": {
        "id": "wJzek50EzEKl"
      }
    },
    {
      "cell_type": "markdown",
      "source": [
        "### In Numpy:"
      ],
      "metadata": {
        "id": "tt--dkW3zXsh"
      }
    },
    {
      "cell_type": "markdown",
      "source": [
        "Currently **x** vector has only 1 axis, So, transpose doesn't have any effect on it, Its shape remains same."
      ],
      "metadata": {
        "id": "VMTP0xHLzsDA"
      }
    },
    {
      "cell_type": "code",
      "source": [
        "x_t = x.T\n",
        "x_t"
      ],
      "metadata": {
        "colab": {
          "base_uri": "https://localhost:8080/"
        },
        "id": "hsyw98KVy8TP",
        "outputId": "2c879c7c-1a53-4b7c-dc35-2043dabe22c5"
      },
      "execution_count": null,
      "outputs": [
        {
          "output_type": "execute_result",
          "data": {
            "text/plain": [
              "array([25,  5, 50])"
            ]
          },
          "metadata": {},
          "execution_count": 9
        }
      ]
    },
    {
      "cell_type": "code",
      "source": [
        "x_t.shape"
      ],
      "metadata": {
        "colab": {
          "base_uri": "https://localhost:8080/"
        },
        "id": "6Yw1RpXbzezW",
        "outputId": "b47c252f-7cd6-4bef-eb79-010b075e1b3c"
      },
      "execution_count": null,
      "outputs": [
        {
          "output_type": "execute_result",
          "data": {
            "text/plain": [
              "(3,)"
            ]
          },
          "metadata": {},
          "execution_count": 10
        }
      ]
    },
    {
      "cell_type": "markdown",
      "source": [
        "If we use nested matrix style brackets:"
      ],
      "metadata": {
        "id": "LTNnhESK0Bvm"
      }
    },
    {
      "cell_type": "code",
      "source": [
        "y = np.array([[25,5,50]])\n",
        "y"
      ],
      "metadata": {
        "colab": {
          "base_uri": "https://localhost:8080/"
        },
        "id": "ftImeZGzz91b",
        "outputId": "faab201b-2e66-4d03-87e7-9acbd8247b75"
      },
      "execution_count": null,
      "outputs": [
        {
          "output_type": "execute_result",
          "data": {
            "text/plain": [
              "array([[25,  5, 50]])"
            ]
          },
          "metadata": {},
          "execution_count": 11
        }
      ]
    },
    {
      "cell_type": "code",
      "source": [
        "y.shape"
      ],
      "metadata": {
        "colab": {
          "base_uri": "https://localhost:8080/"
        },
        "id": "m-8kz4Wt0Nc8",
        "outputId": "de99b005-13ee-41d1-8ffb-0a3cf89ec4b8"
      },
      "execution_count": null,
      "outputs": [
        {
          "output_type": "execute_result",
          "data": {
            "text/plain": [
              "(1, 3)"
            ]
          },
          "metadata": {},
          "execution_count": 12
        }
      ]
    },
    {
      "cell_type": "markdown",
      "source": [
        "Now, if we take transpose:"
      ],
      "metadata": {
        "id": "CiOKvyg10XKs"
      }
    },
    {
      "cell_type": "code",
      "source": [
        "y_t = y.T\n",
        "y_t"
      ],
      "metadata": {
        "colab": {
          "base_uri": "https://localhost:8080/"
        },
        "id": "Q2YmimY70PXQ",
        "outputId": "41141c79-748a-460f-851b-acba0289ebef"
      },
      "execution_count": null,
      "outputs": [
        {
          "output_type": "execute_result",
          "data": {
            "text/plain": [
              "array([[25],\n",
              "       [ 5],\n",
              "       [50]])"
            ]
          },
          "metadata": {},
          "execution_count": 13
        }
      ]
    },
    {
      "cell_type": "code",
      "source": [
        "y_t.shape"
      ],
      "metadata": {
        "colab": {
          "base_uri": "https://localhost:8080/"
        },
        "id": "pfaKLr9b0Wmr",
        "outputId": "3348cffc-94d9-4448-998f-313ffc4fcb6f"
      },
      "execution_count": null,
      "outputs": [
        {
          "output_type": "execute_result",
          "data": {
            "text/plain": [
              "(3, 1)"
            ]
          },
          "metadata": {},
          "execution_count": 14
        }
      ]
    },
    {
      "cell_type": "markdown",
      "source": [
        "### Zero Vectors:\n"
      ],
      "metadata": {
        "id": "TmMNOdUn0kkf"
      }
    },
    {
      "cell_type": "code",
      "source": [
        "z = np.zeros(3)\n",
        "z"
      ],
      "metadata": {
        "colab": {
          "base_uri": "https://localhost:8080/"
        },
        "id": "Tn8Rdd160hLF",
        "outputId": "c4e2bcc8-1762-4183-c9c8-15f080638fc4"
      },
      "execution_count": null,
      "outputs": [
        {
          "output_type": "execute_result",
          "data": {
            "text/plain": [
              "array([0., 0., 0.])"
            ]
          },
          "metadata": {},
          "execution_count": 15
        }
      ]
    },
    {
      "cell_type": "markdown",
      "source": [
        "## Vectors in TensorFlow:"
      ],
      "metadata": {
        "id": "CXi9bE823L9C"
      }
    },
    {
      "cell_type": "code",
      "source": [
        "x_tf = tf.Variable([25,5,50])\n",
        "x_tf"
      ],
      "metadata": {
        "colab": {
          "base_uri": "https://localhost:8080/"
        },
        "id": "30ZpAPOz3Ftu",
        "outputId": "657ac3cc-ed7e-4b42-e2b2-f796e9b0c3ae"
      },
      "execution_count": null,
      "outputs": [
        {
          "output_type": "execute_result",
          "data": {
            "text/plain": [
              "<tf.Variable 'Variable:0' shape=(3,) dtype=int32, numpy=array([25,  5, 50], dtype=int32)>"
            ]
          },
          "metadata": {},
          "execution_count": 21
        }
      ]
    },
    {
      "cell_type": "code",
      "source": [
        "x_tf = tf.transpose(x_tf)"
      ],
      "metadata": {
        "id": "qpg_GT5G3e2v"
      },
      "execution_count": null,
      "outputs": []
    },
    {
      "cell_type": "code",
      "source": [
        "x_tf"
      ],
      "metadata": {
        "colab": {
          "base_uri": "https://localhost:8080/"
        },
        "id": "e6kxXzZs4AVO",
        "outputId": "e84315d7-7389-4354-c7ef-275dafa5c158"
      },
      "execution_count": null,
      "outputs": [
        {
          "output_type": "execute_result",
          "data": {
            "text/plain": [
              "<tf.Tensor: shape=(3,), dtype=int32, numpy=array([25,  5, 50], dtype=int32)>"
            ]
          },
          "metadata": {},
          "execution_count": 26
        }
      ]
    },
    {
      "cell_type": "code",
      "source": [
        "y_tf = tf.Variable([[25,5,50]])\n",
        "y_tf"
      ],
      "metadata": {
        "colab": {
          "base_uri": "https://localhost:8080/"
        },
        "id": "FwQ4taX44MbH",
        "outputId": "21b45eb2-dd11-40a3-9268-c7c3d27fbb41"
      },
      "execution_count": null,
      "outputs": [
        {
          "output_type": "execute_result",
          "data": {
            "text/plain": [
              "<tf.Variable 'Variable:0' shape=(1, 3) dtype=int32, numpy=array([[25,  5, 50]], dtype=int32)>"
            ]
          },
          "metadata": {},
          "execution_count": 27
        }
      ]
    },
    {
      "cell_type": "code",
      "source": [
        "y_tf = tf.transpose(y_tf)\n",
        "y_tf"
      ],
      "metadata": {
        "colab": {
          "base_uri": "https://localhost:8080/"
        },
        "id": "xFZF7R3d4UuI",
        "outputId": "f0e491c2-4b69-4d0d-d42e-7e954e53be99"
      },
      "execution_count": null,
      "outputs": [
        {
          "output_type": "execute_result",
          "data": {
            "text/plain": [
              "<tf.Tensor: shape=(3, 1), dtype=int32, numpy=\n",
              "array([[25],\n",
              "       [ 5],\n",
              "       [50]], dtype=int32)>"
            ]
          },
          "metadata": {},
          "execution_count": 28
        }
      ]
    },
    {
      "cell_type": "markdown",
      "source": [
        "# Norms:\n",
        "* Vectors also represent the magnitude and direction from origin.\n",
        "* Norms are functions that quantify vector magnitude."
      ],
      "metadata": {
        "id": "u532Jzsc48nD"
      }
    },
    {
      "cell_type": "markdown",
      "source": [
        "## L1 Norm:\n",
        "  * L1 Norm **`||x||`** equals to the **`\"Sum of Individual scaler elements of the vector\"`**\n",
        "  * It varies at all locations.\n",
        "  * Used whenever diff b/w zero and non-zero is key.\n",
        "  * Another common Norm in ML."
      ],
      "metadata": {
        "id": "AV3SC62rBSCl"
      }
    },
    {
      "cell_type": "code",
      "source": [
        "x"
      ],
      "metadata": {
        "colab": {
          "base_uri": "https://localhost:8080/"
        },
        "id": "c_ZLLP30CFbm",
        "outputId": "22056f86-8a84-4cc7-e3cd-d29d7aeff7df"
      },
      "execution_count": null,
      "outputs": [
        {
          "output_type": "execute_result",
          "data": {
            "text/plain": [
              "array([25,  5, 50])"
            ]
          },
          "metadata": {},
          "execution_count": 36
        }
      ]
    },
    {
      "cell_type": "code",
      "source": [
        "np.abs(25) + np.abs(5) + np.abs(50)"
      ],
      "metadata": {
        "colab": {
          "base_uri": "https://localhost:8080/"
        },
        "id": "npRB-4hECKuM",
        "outputId": "95dea963-fd0f-41d5-cf4d-e2f75f0cb235"
      },
      "execution_count": null,
      "outputs": [
        {
          "output_type": "execute_result",
          "data": {
            "text/plain": [
              "80"
            ]
          },
          "metadata": {},
          "execution_count": 37
        }
      ]
    },
    {
      "cell_type": "markdown",
      "source": [
        "## L2 Norm:\n",
        "  * L2 Norm **`||x||`** equals to the **`\"Sq root of Sum of square of Individual scaler elements of the vector\"`**\n",
        "  * Represented and Described as:\n",
        "\n",
        "  * Measures simple Euclidean distance from origin.\n",
        "  * Most common Norm in ML."
      ],
      "metadata": {
        "id": "P78DZVTK_S0J"
      }
    },
    {
      "cell_type": "code",
      "source": [
        "x"
      ],
      "metadata": {
        "colab": {
          "base_uri": "https://localhost:8080/"
        },
        "id": "GmQZtDJw4egL",
        "outputId": "bd943aec-fe0e-4213-f8be-17f309d845a5"
      },
      "execution_count": null,
      "outputs": [
        {
          "output_type": "execute_result",
          "data": {
            "text/plain": [
              "array([25,  5, 50])"
            ]
          },
          "metadata": {},
          "execution_count": 29
        }
      ]
    },
    {
      "cell_type": "code",
      "source": [
        "(25**2 + 5**2 + 50**2)**(1/2)"
      ],
      "metadata": {
        "colab": {
          "base_uri": "https://localhost:8080/"
        },
        "id": "yIlevQPy-LCr",
        "outputId": "55b68a08-5560-4910-c60c-253f146dcda7"
      },
      "execution_count": null,
      "outputs": [
        {
          "output_type": "execute_result",
          "data": {
            "text/plain": [
              "56.124860801609124"
            ]
          },
          "metadata": {},
          "execution_count": 34
        }
      ]
    },
    {
      "cell_type": "markdown",
      "source": [
        "#### Using Built in functions:"
      ],
      "metadata": {
        "id": "ei6B1r09-lt8"
      }
    },
    {
      "cell_type": "code",
      "source": [
        "np.linalg.norm(x)"
      ],
      "metadata": {
        "colab": {
          "base_uri": "https://localhost:8080/"
        },
        "id": "xxbYQytn-VsA",
        "outputId": "7dd1fe43-4c9f-432c-d4bc-a1337fbbad9b"
      },
      "execution_count": null,
      "outputs": [
        {
          "output_type": "execute_result",
          "data": {
            "text/plain": [
              "56.124860801609124"
            ]
          },
          "metadata": {},
          "execution_count": 35
        }
      ]
    },
    {
      "cell_type": "markdown",
      "source": [
        "So, if units in this 3D vector space are meters, then the vector *x* has  length of 56.1m."
      ],
      "metadata": {
        "id": "5uFZQSaK-y2V"
      }
    },
    {
      "cell_type": "markdown",
      "source": [
        "## Squared L2 Norm:\n",
        "  * L2 Norm **`||x||`**^2 equals to the **`\"Sum of square of Individual scaler elements of the vector\"`**\n",
        "  * Computationally cheaper to use than L2 norm because:\n",
        "    * Squared L2 norm equals to (Transpose of **vector x** * **x**)\n",
        "  * Downside is that it grows slowly near origin, So, cnnot be used if Diff b/w zero and non-zero is important."
      ],
      "metadata": {
        "id": "WxzFMXk3CqXI"
      }
    },
    {
      "cell_type": "code",
      "source": [
        "x"
      ],
      "metadata": {
        "colab": {
          "base_uri": "https://localhost:8080/"
        },
        "id": "u_jq9gndCp-s",
        "outputId": "c63e6cfb-6b8c-4691-bc1d-df6d37ba5004"
      },
      "execution_count": null,
      "outputs": [
        {
          "output_type": "execute_result",
          "data": {
            "text/plain": [
              "array([25,  5, 50])"
            ]
          },
          "metadata": {},
          "execution_count": 38
        }
      ]
    },
    {
      "cell_type": "code",
      "source": [
        "(25**2 + 5**2 + 50**2)"
      ],
      "metadata": {
        "colab": {
          "base_uri": "https://localhost:8080/"
        },
        "id": "a_wuDlCzEHlS",
        "outputId": "2053e9dc-d971-410b-e162-a52ced928253"
      },
      "execution_count": null,
      "outputs": [
        {
          "output_type": "execute_result",
          "data": {
            "text/plain": [
              "3150"
            ]
          },
          "metadata": {},
          "execution_count": 39
        }
      ]
    },
    {
      "cell_type": "code",
      "source": [
        "np.dot(x,x)"
      ],
      "metadata": {
        "colab": {
          "base_uri": "https://localhost:8080/"
        },
        "id": "LF1AP9ufEb2a",
        "outputId": "c7deb8ec-0565-41a8-b897-dfab8cab6840"
      },
      "execution_count": null,
      "outputs": [
        {
          "output_type": "execute_result",
          "data": {
            "text/plain": [
              "3150"
            ]
          },
          "metadata": {},
          "execution_count": 40
        }
      ]
    },
    {
      "cell_type": "markdown",
      "source": [
        "## Max Norm:\n",
        "* Equals to the maximum of absolute of all the Individual scaler values of vector.\n",
        "* Returns the absolute value of the largest magnitude element."
      ],
      "metadata": {
        "id": "_X1yVulbEk2z"
      }
    },
    {
      "cell_type": "code",
      "source": [
        "x"
      ],
      "metadata": {
        "colab": {
          "base_uri": "https://localhost:8080/"
        },
        "id": "egf2KA87FTWP",
        "outputId": "00726757-74d6-409e-cede-4389cc633253"
      },
      "execution_count": null,
      "outputs": [
        {
          "output_type": "execute_result",
          "data": {
            "text/plain": [
              "array([25,  5, 50])"
            ]
          },
          "metadata": {},
          "execution_count": 41
        }
      ]
    },
    {
      "cell_type": "code",
      "source": [
        "np.max([np.abs(25) , np.abs(5) , np.abs(50)])"
      ],
      "metadata": {
        "colab": {
          "base_uri": "https://localhost:8080/"
        },
        "id": "ppUkiKbXFbWq",
        "outputId": "fc63b58c-c248-457d-facd-7ce71940be83"
      },
      "execution_count": null,
      "outputs": [
        {
          "output_type": "execute_result",
          "data": {
            "text/plain": [
              "50"
            ]
          },
          "metadata": {},
          "execution_count": 43
        }
      ]
    },
    {
      "cell_type": "markdown",
      "source": [
        "## Generalized Lp Norm:\n"
      ],
      "metadata": {
        "id": "2GcWASyTFwL4"
      }
    },
    {
      "cell_type": "markdown",
      "source": [
        "# Types of Vectors:"
      ],
      "metadata": {
        "id": "IIEYcqudDoU5"
      }
    },
    {
      "cell_type": "markdown",
      "source": [
        "## Unit Vector:\n",
        "* Vector whose length is equal to 1.\n",
        "* Technically, x is a unit vector, if it has *unit norm*; i.e.,\n",
        "  * ||**x**|| = 1"
      ],
      "metadata": {
        "id": "0xsqOzJ1_xvT"
      }
    },
    {
      "cell_type": "markdown",
      "source": [
        "## Basis Vectors:\n",
        "* Can be scaled to represent any vector in given vector space.\n",
        "* Typically, use unit vectors along axes of vector space."
      ],
      "metadata": {
        "id": "sMA_Ul4BD8bo"
      }
    },
    {
      "cell_type": "markdown",
      "source": [
        "## Orthogonal Vectors:\n",
        "* ***x*** and ***y*** are orthogonal vectors, if *transpose of **x** * **y** = 0*\n",
        "* These are at 90° angle to each other.(assuming noon-zero norms)\n",
        "* n-Dimensional space has max n mutually orthogonal vectors."
      ],
      "metadata": {
        "id": "R-SRhmkPEClf"
      }
    },
    {
      "cell_type": "code",
      "source": [
        "i = np.array([1,0])\n",
        "i"
      ],
      "metadata": {
        "colab": {
          "base_uri": "https://localhost:8080/"
        },
        "id": "7-ZPzG6vEB84",
        "outputId": "fe9d9146-77a1-43e4-90bb-59ad2d07c214"
      },
      "execution_count": null,
      "outputs": [
        {
          "output_type": "execute_result",
          "data": {
            "text/plain": [
              "array([1, 0])"
            ]
          },
          "metadata": {},
          "execution_count": 3
        }
      ]
    },
    {
      "cell_type": "code",
      "source": [
        "j = np.array([0,1])\n",
        "j"
      ],
      "metadata": {
        "colab": {
          "base_uri": "https://localhost:8080/"
        },
        "id": "0e01zyeSH9mH",
        "outputId": "be158701-590e-49c5-eef7-3e9f3f1cc300"
      },
      "execution_count": null,
      "outputs": [
        {
          "output_type": "execute_result",
          "data": {
            "text/plain": [
              "array([0, 1])"
            ]
          },
          "metadata": {},
          "execution_count": 4
        }
      ]
    },
    {
      "cell_type": "code",
      "source": [
        "np.dot(i,j)"
      ],
      "metadata": {
        "colab": {
          "base_uri": "https://localhost:8080/"
        },
        "id": "OUyVqo6WH-Sh",
        "outputId": "297a38d1-36f7-4086-c65e-515166adfd52"
      },
      "execution_count": null,
      "outputs": [
        {
          "output_type": "execute_result",
          "data": {
            "text/plain": [
              "0"
            ]
          },
          "metadata": {},
          "execution_count": 5
        }
      ]
    },
    {
      "cell_type": "markdown",
      "source": [
        "## Orthonormal Vectors:\n",
        "* These are orthogonal vectors and have a *Unit Norm*."
      ],
      "metadata": {
        "id": "QNxiOKTMEOa4"
      }
    }
  ]
}