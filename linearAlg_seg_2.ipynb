{
  "nbformat": 4,
  "nbformat_minor": 0,
  "metadata": {
    "colab": {
      "provenance": [],
      "authorship_tag": "ABX9TyMwPSi2APoiOMgcHHdL4uhq",
      "include_colab_link": true
    },
    "kernelspec": {
      "name": "python3",
      "display_name": "Python 3"
    },
    "language_info": {
      "name": "python"
    }
  },
  "cells": [
    {
      "cell_type": "markdown",
      "metadata": {
        "id": "view-in-github",
        "colab_type": "text"
      },
      "source": [
        "<a href=\"https://colab.research.google.com/github/Mikkk1/Intro-to-Linear-Algebra-python/blob/main/linearAlg_seg_2.ipynb\" target=\"_parent\"><img src=\"https://colab.research.google.com/assets/colab-badge.svg\" alt=\"Open In Colab\"/></a>"
      ]
    },
    {
      "cell_type": "markdown",
      "source": [
        "# **Tensor Transposition:**"
      ],
      "metadata": {
        "id": "8ULj_FnP4ZOW"
      }
    },
    {
      "cell_type": "code",
      "source": [
        "import numpy as np\n",
        "import tensorflow as tf"
      ],
      "metadata": {
        "id": "8Yog2nlU4Yz3"
      },
      "execution_count": null,
      "outputs": []
    },
    {
      "cell_type": "code",
      "execution_count": null,
      "metadata": {
        "id": "qlGy_vZK4Msf"
      },
      "outputs": [],
      "source": [
        "X = np.array([[25, 3, 9], [7, 10, 11], [12, 63, 2]])"
      ]
    },
    {
      "cell_type": "code",
      "source": [
        "X"
      ],
      "metadata": {
        "colab": {
          "base_uri": "https://localhost:8080/"
        },
        "id": "X6fHDazA4_Uf",
        "outputId": "af5130ae-6638-4aff-aff1-f472e2a6100d"
      },
      "execution_count": null,
      "outputs": [
        {
          "output_type": "execute_result",
          "data": {
            "text/plain": [
              "array([[25,  3,  9],\n",
              "       [ 7, 10, 11],\n",
              "       [12, 63,  2]])"
            ]
          },
          "metadata": {},
          "execution_count": 5
        }
      ]
    },
    {
      "cell_type": "code",
      "source": [
        "X.T"
      ],
      "metadata": {
        "colab": {
          "base_uri": "https://localhost:8080/"
        },
        "id": "YXGuD35g5HKt",
        "outputId": "6744cb12-bf5d-4f98-ca37-56eab64ad478"
      },
      "execution_count": null,
      "outputs": [
        {
          "output_type": "execute_result",
          "data": {
            "text/plain": [
              "array([[25,  7, 12],\n",
              "       [ 3, 10, 63],\n",
              "       [ 9, 11,  2]])"
            ]
          },
          "metadata": {},
          "execution_count": 6
        }
      ]
    },
    {
      "cell_type": "code",
      "source": [
        "X_tf = tf.Variable([[25, 3, 9], [7, 10, 11], [12, 63, 2]])\n",
        "X_tf"
      ],
      "metadata": {
        "colab": {
          "base_uri": "https://localhost:8080/"
        },
        "id": "Lo9CXCw65JS1",
        "outputId": "a7fee886-fd66-4d90-900a-b0cdba131ee9"
      },
      "execution_count": null,
      "outputs": [
        {
          "output_type": "execute_result",
          "data": {
            "text/plain": [
              "<tf.Variable 'Variable:0' shape=(3, 3) dtype=int32, numpy=\n",
              "array([[25,  3,  9],\n",
              "       [ 7, 10, 11],\n",
              "       [12, 63,  2]], dtype=int32)>"
            ]
          },
          "metadata": {},
          "execution_count": 7
        }
      ]
    },
    {
      "cell_type": "code",
      "source": [
        "tf.transpose(X_tf)"
      ],
      "metadata": {
        "colab": {
          "base_uri": "https://localhost:8080/"
        },
        "id": "9mR7Lzia5S5-",
        "outputId": "ddff7c6b-2959-46e5-9657-65b5522c3a01"
      },
      "execution_count": null,
      "outputs": [
        {
          "output_type": "execute_result",
          "data": {
            "text/plain": [
              "<tf.Tensor: shape=(3, 3), dtype=int32, numpy=\n",
              "array([[25,  7, 12],\n",
              "       [ 3, 10, 63],\n",
              "       [ 9, 11,  2]], dtype=int32)>"
            ]
          },
          "metadata": {},
          "execution_count": 8
        }
      ]
    },
    {
      "cell_type": "markdown",
      "source": [
        "# Basic Tensor Arithmatic:"
      ],
      "metadata": {
        "id": "l_iIBsgg5pck"
      }
    },
    {
      "cell_type": "markdown",
      "source": [
        "Adding and multiplying with scalers:"
      ],
      "metadata": {
        "id": "mc2XSp9R50Ub"
      }
    },
    {
      "cell_type": "code",
      "source": [
        "X + 2"
      ],
      "metadata": {
        "colab": {
          "base_uri": "https://localhost:8080/"
        },
        "id": "N7lrIRJe5XIt",
        "outputId": "b6789171-c9d3-4df0-91dd-157436720616"
      },
      "execution_count": null,
      "outputs": [
        {
          "output_type": "execute_result",
          "data": {
            "text/plain": [
              "array([[27,  5, 11],\n",
              "       [ 9, 12, 13],\n",
              "       [14, 65,  4]])"
            ]
          },
          "metadata": {},
          "execution_count": 9
        }
      ]
    },
    {
      "cell_type": "code",
      "source": [
        "X * 2"
      ],
      "metadata": {
        "colab": {
          "base_uri": "https://localhost:8080/"
        },
        "id": "-g2x8EV556yY",
        "outputId": "0ffaf022-2dee-46fd-be2c-b440d254aff6"
      },
      "execution_count": null,
      "outputs": [
        {
          "output_type": "execute_result",
          "data": {
            "text/plain": [
              "array([[ 50,   6,  18],\n",
              "       [ 14,  20,  22],\n",
              "       [ 24, 126,   4]])"
            ]
          },
          "metadata": {},
          "execution_count": 10
        }
      ]
    },
    {
      "cell_type": "code",
      "source": [
        "X * 2 + 2"
      ],
      "metadata": {
        "colab": {
          "base_uri": "https://localhost:8080/"
        },
        "id": "xrSnBd6K59CB",
        "outputId": "c8b9fb66-acbd-43a3-ef16-34116d6a5edd"
      },
      "execution_count": null,
      "outputs": [
        {
          "output_type": "execute_result",
          "data": {
            "text/plain": [
              "array([[ 52,   8,  20],\n",
              "       [ 16,  22,  24],\n",
              "       [ 26, 128,   6]])"
            ]
          },
          "metadata": {},
          "execution_count": 11
        }
      ]
    },
    {
      "cell_type": "code",
      "source": [
        "X_tf * 2 + 2"
      ],
      "metadata": {
        "colab": {
          "base_uri": "https://localhost:8080/"
        },
        "id": "-xgpn22B6MEq",
        "outputId": "ad9fbd46-e833-4ed8-a307-87a4fc775fa7"
      },
      "execution_count": null,
      "outputs": [
        {
          "output_type": "execute_result",
          "data": {
            "text/plain": [
              "<tf.Tensor: shape=(3, 3), dtype=int32, numpy=\n",
              "array([[ 52,   8,  20],\n",
              "       [ 16,  22,  24],\n",
              "       [ 26, 128,   6]], dtype=int32)>"
            ]
          },
          "metadata": {},
          "execution_count": 13
        }
      ]
    },
    {
      "cell_type": "code",
      "source": [
        "tf.add(tf.multiply(X_tf, 2),2)"
      ],
      "metadata": {
        "colab": {
          "base_uri": "https://localhost:8080/"
        },
        "id": "4VgFa2Y16xd-",
        "outputId": "b38170c4-4926-407b-b26f-5a7604918a80"
      },
      "execution_count": null,
      "outputs": [
        {
          "output_type": "execute_result",
          "data": {
            "text/plain": [
              "<tf.Tensor: shape=(3, 3), dtype=int32, numpy=\n",
              "array([[ 52,   8,  20],\n",
              "       [ 16,  22,  24],\n",
              "       [ 26, 128,   6]], dtype=int32)>"
            ]
          },
          "metadata": {},
          "execution_count": 14
        }
      ]
    },
    {
      "cell_type": "markdown",
      "source": [
        "### The Hadamard Product (The element-wise product):\n"
      ],
      "metadata": {
        "id": "Ethj3n4c7q6i"
      }
    },
    {
      "cell_type": "markdown",
      "source": [
        "#### In Numpy"
      ],
      "metadata": {
        "id": "TXmwlSga8sAp"
      }
    },
    {
      "cell_type": "code",
      "source": [
        "X"
      ],
      "metadata": {
        "colab": {
          "base_uri": "https://localhost:8080/"
        },
        "id": "B5C-LVyE7Eh9",
        "outputId": "9f64f28c-029c-480b-9713-3583f2188392"
      },
      "execution_count": null,
      "outputs": [
        {
          "output_type": "execute_result",
          "data": {
            "text/plain": [
              "array([[25,  3,  9],\n",
              "       [ 7, 10, 11],\n",
              "       [12, 63,  2]])"
            ]
          },
          "metadata": {},
          "execution_count": 15
        }
      ]
    },
    {
      "cell_type": "code",
      "source": [
        "A = X + 2"
      ],
      "metadata": {
        "id": "1Bfq0xE_8OnT"
      },
      "execution_count": null,
      "outputs": []
    },
    {
      "cell_type": "code",
      "source": [
        "A"
      ],
      "metadata": {
        "colab": {
          "base_uri": "https://localhost:8080/"
        },
        "id": "LNmzs_ti8QRq",
        "outputId": "47e3d080-c22c-4c20-9de1-6207271292ec"
      },
      "execution_count": null,
      "outputs": [
        {
          "output_type": "execute_result",
          "data": {
            "text/plain": [
              "array([[27,  5, 11],\n",
              "       [ 9, 12, 13],\n",
              "       [14, 65,  4]])"
            ]
          },
          "metadata": {},
          "execution_count": 17
        }
      ]
    },
    {
      "cell_type": "code",
      "source": [
        "A + X"
      ],
      "metadata": {
        "colab": {
          "base_uri": "https://localhost:8080/"
        },
        "id": "kAe831sT8RI9",
        "outputId": "271d93ee-ebb3-4a8c-948a-6697d0eccb61"
      },
      "execution_count": null,
      "outputs": [
        {
          "output_type": "execute_result",
          "data": {
            "text/plain": [
              "array([[ 52,   8,  20],\n",
              "       [ 16,  22,  24],\n",
              "       [ 26, 128,   6]])"
            ]
          },
          "metadata": {},
          "execution_count": 18
        }
      ]
    },
    {
      "cell_type": "code",
      "source": [
        "A * X"
      ],
      "metadata": {
        "colab": {
          "base_uri": "https://localhost:8080/"
        },
        "id": "WwP3iKXt8T7z",
        "outputId": "ffe335c6-b1a4-420a-9eb9-95fe6d9cf35d"
      },
      "execution_count": null,
      "outputs": [
        {
          "output_type": "execute_result",
          "data": {
            "text/plain": [
              "array([[ 675,   15,   99],\n",
              "       [  63,  120,  143],\n",
              "       [ 168, 4095,    8]])"
            ]
          },
          "metadata": {},
          "execution_count": 19
        }
      ]
    },
    {
      "cell_type": "markdown",
      "source": [
        "#### In Tensorflow"
      ],
      "metadata": {
        "id": "RZNbIcFJ8ftp"
      }
    },
    {
      "cell_type": "code",
      "source": [
        "A_tf = X_tf + 2"
      ],
      "metadata": {
        "id": "x-OzaGK58blg"
      },
      "execution_count": null,
      "outputs": []
    },
    {
      "cell_type": "code",
      "source": [
        "A_tf"
      ],
      "metadata": {
        "colab": {
          "base_uri": "https://localhost:8080/"
        },
        "id": "KD11Pywe80Fk",
        "outputId": "9967050a-7345-4397-cd66-b18507260116"
      },
      "execution_count": null,
      "outputs": [
        {
          "output_type": "execute_result",
          "data": {
            "text/plain": [
              "<tf.Tensor: shape=(3, 3), dtype=int32, numpy=\n",
              "array([[27,  5, 11],\n",
              "       [ 9, 12, 13],\n",
              "       [14, 65,  4]], dtype=int32)>"
            ]
          },
          "metadata": {},
          "execution_count": 21
        }
      ]
    },
    {
      "cell_type": "code",
      "source": [
        "A_tf + X_tf"
      ],
      "metadata": {
        "colab": {
          "base_uri": "https://localhost:8080/"
        },
        "id": "rJe4IYR781sJ",
        "outputId": "9b115378-4cc9-4096-c547-bb540a6e2c70"
      },
      "execution_count": null,
      "outputs": [
        {
          "output_type": "execute_result",
          "data": {
            "text/plain": [
              "<tf.Tensor: shape=(3, 3), dtype=int32, numpy=\n",
              "array([[ 52,   8,  20],\n",
              "       [ 16,  22,  24],\n",
              "       [ 26, 128,   6]], dtype=int32)>"
            ]
          },
          "metadata": {},
          "execution_count": 22
        }
      ]
    },
    {
      "cell_type": "code",
      "source": [
        "A_tf * X_tf"
      ],
      "metadata": {
        "colab": {
          "base_uri": "https://localhost:8080/"
        },
        "id": "aZW_VYRe862s",
        "outputId": "1aed383d-ea0b-4349-d75e-39fab51fdd55"
      },
      "execution_count": null,
      "outputs": [
        {
          "output_type": "execute_result",
          "data": {
            "text/plain": [
              "<tf.Tensor: shape=(3, 3), dtype=int32, numpy=\n",
              "array([[ 675,   15,   99],\n",
              "       [  63,  120,  143],\n",
              "       [ 168, 4095,    8]], dtype=int32)>"
            ]
          },
          "metadata": {},
          "execution_count": 23
        }
      ]
    },
    {
      "cell_type": "markdown",
      "source": [
        "### Reduction:\n",
        "Calculating sum accross all the elements of a tensor, e.g.\n",
        "* For vector ***x*** of length n, we calculate: $\\sum_{i=1}^{n} x_i$\n",
        "* For matrix ***X*** with m by n dimension, we calculate $\\sum_{i=1}^{m} \\sum_{i=1}^{n} X_{i,j}$"
      ],
      "metadata": {
        "id": "fx0HHU3-8_7I"
      }
    },
    {
      "cell_type": "markdown",
      "source": [
        "## Sum:"
      ],
      "metadata": {
        "id": "GC8Ruk1AFEGi"
      }
    },
    {
      "cell_type": "code",
      "source": [
        "X"
      ],
      "metadata": {
        "colab": {
          "base_uri": "https://localhost:8080/"
        },
        "id": "-KkErugr9MMe",
        "outputId": "b5723752-b320-4973-f439-91108430fa8a"
      },
      "execution_count": null,
      "outputs": [
        {
          "output_type": "execute_result",
          "data": {
            "text/plain": [
              "array([[25,  3,  9],\n",
              "       [ 7, 10, 11],\n",
              "       [12, 63,  2]])"
            ]
          },
          "metadata": {},
          "execution_count": 24
        }
      ]
    },
    {
      "cell_type": "code",
      "source": [
        "X.sum()"
      ],
      "metadata": {
        "colab": {
          "base_uri": "https://localhost:8080/"
        },
        "id": "iH0vVHRJCol1",
        "outputId": "803717b5-fbc1-4ae6-e742-b1e455fc675c"
      },
      "execution_count": null,
      "outputs": [
        {
          "output_type": "execute_result",
          "data": {
            "text/plain": [
              "142"
            ]
          },
          "metadata": {},
          "execution_count": 25
        }
      ]
    },
    {
      "cell_type": "code",
      "source": [
        "X_tf"
      ],
      "metadata": {
        "colab": {
          "base_uri": "https://localhost:8080/"
        },
        "id": "2JxoI0nbCp-_",
        "outputId": "7a883450-17af-499d-9ea0-f92cc72016ff"
      },
      "execution_count": null,
      "outputs": [
        {
          "output_type": "execute_result",
          "data": {
            "text/plain": [
              "<tf.Variable 'Variable:0' shape=(3, 3) dtype=int32, numpy=\n",
              "array([[25,  3,  9],\n",
              "       [ 7, 10, 11],\n",
              "       [12, 63,  2]], dtype=int32)>"
            ]
          },
          "metadata": {},
          "execution_count": 26
        }
      ]
    },
    {
      "cell_type": "code",
      "source": [
        "tf.reduce_sum(X_tf)"
      ],
      "metadata": {
        "colab": {
          "base_uri": "https://localhost:8080/"
        },
        "id": "cbnQtm_tCtUS",
        "outputId": "10baa47f-023f-48c4-c04d-07b01c80fc7f"
      },
      "execution_count": null,
      "outputs": [
        {
          "output_type": "execute_result",
          "data": {
            "text/plain": [
              "<tf.Tensor: shape=(), dtype=int32, numpy=142>"
            ]
          },
          "metadata": {},
          "execution_count": 28
        }
      ]
    },
    {
      "cell_type": "markdown",
      "source": [
        "Sum of only rows:"
      ],
      "metadata": {
        "id": "cmFOWJfiC6WA"
      }
    },
    {
      "cell_type": "code",
      "source": [
        "X.sum(axis = 0)"
      ],
      "metadata": {
        "colab": {
          "base_uri": "https://localhost:8080/"
        },
        "id": "6ZfFwByECwyL",
        "outputId": "4042bc56-43dd-414c-e821-9fbb839ce60d"
      },
      "execution_count": null,
      "outputs": [
        {
          "output_type": "execute_result",
          "data": {
            "text/plain": [
              "array([44, 76, 22])"
            ]
          },
          "metadata": {},
          "execution_count": 29
        }
      ]
    },
    {
      "cell_type": "code",
      "source": [
        "tf.reduce_sum(X_tf, 0)"
      ],
      "metadata": {
        "colab": {
          "base_uri": "https://localhost:8080/"
        },
        "id": "WOChUirqDVfW",
        "outputId": "f65f03ee-7073-4e42-ff2e-3b6a94b2c220"
      },
      "execution_count": null,
      "outputs": [
        {
          "output_type": "execute_result",
          "data": {
            "text/plain": [
              "<tf.Tensor: shape=(3,), dtype=int32, numpy=array([44, 76, 22], dtype=int32)>"
            ]
          },
          "metadata": {},
          "execution_count": 31
        }
      ]
    },
    {
      "cell_type": "markdown",
      "source": [
        "Sum of only columns:"
      ],
      "metadata": {
        "id": "zgGF9cgfDHGP"
      }
    },
    {
      "cell_type": "code",
      "source": [
        "X.sum(axis = 1)"
      ],
      "metadata": {
        "colab": {
          "base_uri": "https://localhost:8080/"
        },
        "id": "iIUbbqmBDC72",
        "outputId": "de429a47-e9fb-4fe2-9b4c-e0b9d531f661"
      },
      "execution_count": null,
      "outputs": [
        {
          "output_type": "execute_result",
          "data": {
            "text/plain": [
              "array([37, 28, 77])"
            ]
          },
          "metadata": {},
          "execution_count": 30
        }
      ]
    },
    {
      "cell_type": "code",
      "source": [
        "tf.reduce_sum(X_tf, 1)"
      ],
      "metadata": {
        "colab": {
          "base_uri": "https://localhost:8080/"
        },
        "id": "cg5dMbsZDMAI",
        "outputId": "2c31130e-6cbe-4258-a6c5-1bebd1a609dc"
      },
      "execution_count": null,
      "outputs": [
        {
          "output_type": "execute_result",
          "data": {
            "text/plain": [
              "<tf.Tensor: shape=(3,), dtype=int32, numpy=array([37, 28, 77], dtype=int32)>"
            ]
          },
          "metadata": {},
          "execution_count": 32
        }
      ]
    },
    {
      "cell_type": "markdown",
      "source": [
        "## Max:"
      ],
      "metadata": {
        "id": "3gQw8px6FNwW"
      }
    },
    {
      "cell_type": "code",
      "source": [
        "X.max()"
      ],
      "metadata": {
        "colab": {
          "base_uri": "https://localhost:8080/"
        },
        "id": "Jvim-j60Dkf6",
        "outputId": "a0495841-0820-44be-e386-79f0192e152e"
      },
      "execution_count": null,
      "outputs": [
        {
          "output_type": "execute_result",
          "data": {
            "text/plain": [
              "63"
            ]
          },
          "metadata": {},
          "execution_count": 33
        }
      ]
    },
    {
      "cell_type": "code",
      "source": [
        "tf.math.reduce_max(X_tf)"
      ],
      "metadata": {
        "colab": {
          "base_uri": "https://localhost:8080/"
        },
        "id": "HJPuoyI0EHbV",
        "outputId": "21e47aad-bcd2-4507-bc81-4e04868a7623"
      },
      "execution_count": null,
      "outputs": [
        {
          "output_type": "execute_result",
          "data": {
            "text/plain": [
              "<tf.Tensor: shape=(), dtype=int32, numpy=63>"
            ]
          },
          "metadata": {},
          "execution_count": 37
        }
      ]
    },
    {
      "cell_type": "markdown",
      "source": [
        "## Min:"
      ],
      "metadata": {
        "id": "HfOGPrr1FZ0N"
      }
    },
    {
      "cell_type": "code",
      "source": [
        "X.min()"
      ],
      "metadata": {
        "colab": {
          "base_uri": "https://localhost:8080/"
        },
        "id": "rywwJ1qyFppj",
        "outputId": "e5f16809-f441-48ae-979f-64c2754ee04a"
      },
      "execution_count": null,
      "outputs": [
        {
          "output_type": "execute_result",
          "data": {
            "text/plain": [
              "2"
            ]
          },
          "metadata": {},
          "execution_count": 40
        }
      ]
    },
    {
      "cell_type": "code",
      "source": [
        "tf.math.reduce_min(X_tf)"
      ],
      "metadata": {
        "colab": {
          "base_uri": "https://localhost:8080/"
        },
        "id": "Eb7vf7vQEM3o",
        "outputId": "6d7e7247-b9de-4850-ce9b-4720ef593648"
      },
      "execution_count": null,
      "outputs": [
        {
          "output_type": "execute_result",
          "data": {
            "text/plain": [
              "<tf.Tensor: shape=(), dtype=int32, numpy=2>"
            ]
          },
          "metadata": {},
          "execution_count": 39
        }
      ]
    },
    {
      "cell_type": "markdown",
      "source": [
        "## Mean"
      ],
      "metadata": {
        "id": "zjiZsXBwFtdf"
      }
    },
    {
      "cell_type": "code",
      "source": [
        "X.mean()"
      ],
      "metadata": {
        "colab": {
          "base_uri": "https://localhost:8080/"
        },
        "id": "VBimiQD7FW52",
        "outputId": "7d88f818-1aa0-4220-dbc3-e37034013297"
      },
      "execution_count": null,
      "outputs": [
        {
          "output_type": "execute_result",
          "data": {
            "text/plain": [
              "15.777777777777779"
            ]
          },
          "metadata": {},
          "execution_count": 41
        }
      ]
    },
    {
      "cell_type": "code",
      "source": [
        "tf.math.reduce_mean(X_tf)"
      ],
      "metadata": {
        "colab": {
          "base_uri": "https://localhost:8080/"
        },
        "id": "4ogb8K-hFvu9",
        "outputId": "f5cc91c3-1d04-40d0-b7e6-b7b6ff0f3f2f"
      },
      "execution_count": null,
      "outputs": [
        {
          "output_type": "execute_result",
          "data": {
            "text/plain": [
              "<tf.Tensor: shape=(), dtype=int32, numpy=15>"
            ]
          },
          "metadata": {},
          "execution_count": 42
        }
      ]
    },
    {
      "cell_type": "markdown",
      "source": [
        "## Product:"
      ],
      "metadata": {
        "id": "7AcG_4WQF0nc"
      }
    },
    {
      "cell_type": "code",
      "source": [
        "X.prod()"
      ],
      "metadata": {
        "colab": {
          "base_uri": "https://localhost:8080/"
        },
        "id": "04ZscZyHFyw9",
        "outputId": "d01ffc14-dc90-490e-a273-66cec22dfaad"
      },
      "execution_count": null,
      "outputs": [
        {
          "output_type": "execute_result",
          "data": {
            "text/plain": [
              "785862000"
            ]
          },
          "metadata": {},
          "execution_count": 45
        }
      ]
    },
    {
      "cell_type": "code",
      "source": [
        "tf.math.reduce_prod(X_tf)"
      ],
      "metadata": {
        "colab": {
          "base_uri": "https://localhost:8080/"
        },
        "id": "UhnkPDIYF55F",
        "outputId": "2a75a8b5-5a5f-4008-8c82-800b50509932"
      },
      "execution_count": null,
      "outputs": [
        {
          "output_type": "execute_result",
          "data": {
            "text/plain": [
              "<tf.Tensor: shape=(), dtype=int32, numpy=785862000>"
            ]
          },
          "metadata": {},
          "execution_count": 44
        }
      ]
    },
    {
      "cell_type": "markdown",
      "source": [
        "# Dot Product:\n",
        "* If we have 2 vectors x and y, that have same length. We can calculate Dot product between them. Denoted by:\n",
        "  * ***x . y***\n",
        "* We calculate products in an element-wise fashion and then sum reductively across the products to a scalar value. That is, $x \\cdot y = \\sum_{i=1}^{n} x_i y_i$\n",
        "\n",
        "* The dot product is ubiquitous in deep learning: It is performed at every artificial neuron in a deep neural network, which may be made up of millions (or orders of magnitude more) of these neurons."
      ],
      "metadata": {
        "id": "H_7U0lZ8Gict"
      }
    },
    {
      "cell_type": "code",
      "source": [
        "x = np.array([25, 5, 10])\n",
        "\n",
        "x"
      ],
      "metadata": {
        "colab": {
          "base_uri": "https://localhost:8080/"
        },
        "id": "70yj3-zIGiKR",
        "outputId": "eab5c95b-bfd7-4c26-f1c8-a0c662035921"
      },
      "execution_count": null,
      "outputs": [
        {
          "output_type": "execute_result",
          "data": {
            "text/plain": [
              "array([25,  5, 10])"
            ]
          },
          "metadata": {},
          "execution_count": 49
        }
      ]
    },
    {
      "cell_type": "code",
      "source": [
        "y = np.array([0, 1, 2])\n",
        "\n",
        "y"
      ],
      "metadata": {
        "colab": {
          "base_uri": "https://localhost:8080/"
        },
        "id": "Kixd3aDcISp3",
        "outputId": "826bd7d0-8818-4740-ec30-7b1b8fcc40b6"
      },
      "execution_count": null,
      "outputs": [
        {
          "output_type": "execute_result",
          "data": {
            "text/plain": [
              "array([0, 1, 2])"
            ]
          },
          "metadata": {},
          "execution_count": 50
        }
      ]
    },
    {
      "cell_type": "markdown",
      "source": [
        "Product of individual elements, then sum of all."
      ],
      "metadata": {
        "id": "6G93_XygIlqT"
      }
    },
    {
      "cell_type": "code",
      "source": [
        "25 * 0 + 5 * 1 + 10 * 2"
      ],
      "metadata": {
        "colab": {
          "base_uri": "https://localhost:8080/"
        },
        "id": "tQeDQlNHIi9q",
        "outputId": "85ce8024-b7a4-4a51-e66b-e878f13825df"
      },
      "execution_count": null,
      "outputs": [
        {
          "output_type": "execute_result",
          "data": {
            "text/plain": [
              "25"
            ]
          },
          "metadata": {},
          "execution_count": 51
        }
      ]
    },
    {
      "cell_type": "markdown",
      "source": [
        "In Numpy:"
      ],
      "metadata": {
        "id": "68W74GOXI5KY"
      }
    },
    {
      "cell_type": "code",
      "source": [
        "np.dot(x,y)"
      ],
      "metadata": {
        "colab": {
          "base_uri": "https://localhost:8080/"
        },
        "id": "ieWCW6tIIz70",
        "outputId": "2f7be221-fdab-4b43-86de-05812e19bd74"
      },
      "execution_count": null,
      "outputs": [
        {
          "output_type": "execute_result",
          "data": {
            "text/plain": [
              "25"
            ]
          },
          "metadata": {},
          "execution_count": 52
        }
      ]
    },
    {
      "cell_type": "markdown",
      "source": [
        "In tensorFlow:"
      ],
      "metadata": {
        "id": "hH7kcm9xI-Io"
      }
    },
    {
      "cell_type": "code",
      "source": [
        "x_tf = tf.Variable([25, 5, 10])\n",
        "x_tf"
      ],
      "metadata": {
        "colab": {
          "base_uri": "https://localhost:8080/"
        },
        "id": "PJmps3qEI3U_",
        "outputId": "f394cc07-a44a-44db-e5a0-793390b77709"
      },
      "execution_count": null,
      "outputs": [
        {
          "output_type": "execute_result",
          "data": {
            "text/plain": [
              "<tf.Variable 'Variable:0' shape=(3,) dtype=int32, numpy=array([25,  5, 10], dtype=int32)>"
            ]
          },
          "metadata": {},
          "execution_count": 54
        }
      ]
    },
    {
      "cell_type": "code",
      "source": [
        "y_tf = tf.Variable([0, 1, 2])\n",
        "y_tf"
      ],
      "metadata": {
        "colab": {
          "base_uri": "https://localhost:8080/"
        },
        "id": "F57-D0R1JRvi",
        "outputId": "305e2fac-c122-4867-b621-0b7fd5482559"
      },
      "execution_count": null,
      "outputs": [
        {
          "output_type": "execute_result",
          "data": {
            "text/plain": [
              "<tf.Variable 'Variable:0' shape=(3,) dtype=int32, numpy=array([0, 1, 2], dtype=int32)>"
            ]
          },
          "metadata": {},
          "execution_count": 55
        }
      ]
    },
    {
      "cell_type": "code",
      "source": [
        "tf.reduce_sum(tf.multiply(x_tf,y_tf))"
      ],
      "metadata": {
        "colab": {
          "base_uri": "https://localhost:8080/"
        },
        "id": "0kLXLdZBJbxZ",
        "outputId": "bc3d22ae-a144-474e-88dc-aea4273e792a"
      },
      "execution_count": null,
      "outputs": [
        {
          "output_type": "execute_result",
          "data": {
            "text/plain": [
              "<tf.Tensor: shape=(), dtype=int32, numpy=25>"
            ]
          },
          "metadata": {},
          "execution_count": 57
        }
      ]
    },
    {
      "cell_type": "markdown",
      "source": [
        "Segment 2 ends here."
      ],
      "metadata": {
        "id": "n_6KU819KL37"
      }
    }
  ]
}